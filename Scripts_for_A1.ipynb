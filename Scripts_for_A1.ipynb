{
 "cells": [
  {
   "cell_type": "code",
   "execution_count": 10,
   "id": "2690dff3",
   "metadata": {},
   "outputs": [],
   "source": [
    "import os\n",
    "from collections import namedtuple\n",
    "import numpy as np\n",
    "import pandas as pd\n",
    "import ifcopenshell\n",
    "import ifcopenshell.util.placement\n",
    "import ifcopenshell.util.classification\n",
    "import ifcopenshell.geom\n",
    "import ifcopenshell.util.shape\n",
    "from pathlib import Path"
   ]
  },
  {
   "cell_type": "code",
   "execution_count": 11,
   "id": "79ec914c",
   "metadata": {},
   "outputs": [
    {
     "name": "stdout",
     "output_type": "stream",
     "text": [
      "File path: C:\\Users\\simon\\OneDrive\\Documents\\GitHub\\E25_41934_Structural\\models\\25-08-D-STR.ifc\n",
      "Model schema: IFC4X3\n"
     ]
    }
   ],
   "source": [
    "# Get the path to the current script's directory\n",
    "base_dir = Path(\"Scripts_for_A1.ipynb\").resolve().parent\n",
    "\n",
    "# Use the 'models' folder relative to the script\n",
    "model_dir = base_dir / \"models\"\n",
    "\n",
    "# Choose the IFC file\n",
    "model_file = \"25-08-D-STR.ifc\"\n",
    "model_path = model_dir / model_file\n",
    "\n",
    "print(f\"File path: {model_path}\")\n",
    "\n",
    "# Open the IFC model\n",
    "model = ifcopenshell.open(str(model_path))\n",
    "ModelHasColor = True\n",
    "print(f\"Model schema: {model.schema}\")\n"
   ]
  },
  {
   "cell_type": "code",
   "execution_count": 12,
   "id": "71a7bc1f",
   "metadata": {},
   "outputs": [
    {
     "name": "stdout",
     "output_type": "stream",
     "text": [
      "Classifications: [#28=IfcClassification('CSI (Construction Specifications Institute)','1998',$,'Uniformat','UniFormat Classification','https://www.csiresources.org/standards/uniformat',$)]\n"
     ]
    }
   ],
   "source": [
    "classifications = model.by_type(\"IfcClassification\")\n",
    "print(\"Classifications:\", classifications)"
   ]
  },
  {
   "cell_type": "code",
   "execution_count": null,
   "id": "0fe097c1",
   "metadata": {},
   "outputs": [],
   "source": [
    "slabs = model.by_type('IfcSlab')\n",
    "beams = model.by_type('IfcBeam')\n",
    "columns = model.by_type('IfcColumn')\n",
    "walls = model.by_type('IfcWall')\n",
    "\n",
    "import \n",
    "\n",
    "# dasdasdfasfas\n",
    "\n",
    "entities = [*slabs, *beams, *columns, *walls]"
   ]
  },
  {
   "cell_type": "code",
   "execution_count": 14,
   "id": "a1f73af0",
   "metadata": {},
   "outputs": [],
   "source": [
    "for entity in entities:\n",
    "    references = ifcopenshell.util.classification.get_references(entity)\n",
    "    if references:\n",
    "        print(references)"
   ]
  },
  {
   "cell_type": "code",
   "execution_count": null,
   "id": "32d87432",
   "metadata": {},
   "outputs": [],
   "source": []
  },
  {
   "cell_type": "code",
   "execution_count": 15,
   "id": "4c94144e",
   "metadata": {},
   "outputs": [
    {
     "name": "stdout",
     "output_type": "stream",
     "text": [
      "{'Type Name': 'Wall_200Concrete', 'id': 247, 'Has Association': False}\n",
      "{'Type Name': 'Wall_200Concrete', 'id': 291, 'Has Association': False}\n",
      "{'Type Name': 'Wall_200Concrete', 'id': 327, 'Has Association': False}\n",
      "{'Type Name': 'Wall_200Concrete', 'id': 363, 'Has Association': False}\n",
      "{'Type Name': 'Wall-Fnd_240Con_Footing', 'id': 413, 'Has Association': False}\n",
      "{'Type Name': 'Wall_200Concrete', 'id': 458, 'Has Association': False}\n",
      "{'Type Name': 'Wall-Fnd_120Con_Footing', 'id': 508, 'Has Association': False}\n",
      "{'Type Name': 'Wall-Fnd_300Con_Footing', 'id': 566, 'Has Association': False}\n",
      "{'Type Name': 'Wall-Fnd_240Con_Footing', 'id': 610, 'Has Association': False}\n",
      "{'Type Name': 'Wall_200Concrete', 'id': 647, 'Has Association': False}\n",
      "{'Type Name': 'Wall_200Concrete', 'id': 684, 'Has Association': False}\n",
      "{'Type Name': 'Wall_200Concrete', 'id': 721, 'Has Association': False}\n",
      "{'Type Name': 'Wall_200Concrete', 'id': 758, 'Has Association': False}\n",
      "{'Type Name': 'Wall_200Concrete', 'id': 795, 'Has Association': False}\n",
      "{'Type Name': 'Wall_200Concrete', 'id': 832, 'Has Association': False}\n",
      "{'Type Name': 'Wall_200Concrete', 'id': 871, 'Has Association': False}\n",
      "{'Type Name': 'Wall_200Concrete', 'id': 920, 'Has Association': False}\n",
      "{'Type Name': 'Wall_200Concrete', 'id': 957, 'Has Association': False}\n",
      "{'Type Name': 'Wall_200Concrete', 'id': 994, 'Has Association': False}\n",
      "{'Type Name': 'Wall_200Concrete', 'id': 1031, 'Has Association': False}\n",
      "{'Type Name': 'Wall_200Concrete', 'id': 2104, 'Has Association': False}\n",
      "{'Type Name': 'Wall_200Concrete', 'id': 2140, 'Has Association': False}\n",
      "{'Type Name': 'Wall_200Concrete', 'id': 4514, 'Has Association': False}\n",
      "{'Type Name': 'Wall_200Concrete', 'id': 19103, 'Has Association': False}\n",
      "{'Type Name': 'Wall_200Concrete', 'id': 19140, 'Has Association': False}\n",
      "{'Type Name': 'Wall_200Concrete', 'id': 19266, 'Has Association': False}\n",
      "{'Type Name': 'Wall_200Concrete', 'id': 19303, 'Has Association': False}\n",
      "{'Type Name': 'Wall_200Concrete', 'id': 19340, 'Has Association': False}\n",
      "{'Type Name': 'Wall_200Concrete', 'id': 19377, 'Has Association': False}\n",
      "{'Type Name': 'Wall_200Concrete', 'id': 19414, 'Has Association': False}\n",
      "{'Type Name': 'Wall_200Concrete', 'id': 23978, 'Has Association': False}\n",
      "{'Type Name': 'Wall_200Concrete', 'id': 24015, 'Has Association': False}\n",
      "{'Type Name': 'Wall_200Concrete', 'id': 30465, 'Has Association': False}\n",
      "{'Type Name': 'Wall_200Concrete', 'id': 48146, 'Has Association': False}\n",
      "{'Type Name': 'Wall_200Concrete', 'id': 52533, 'Has Association': False}\n",
      "{'Type Name': 'Wall_200Concrete', 'id': 52581, 'Has Association': False}\n",
      "{'Type Name': 'Wall_200Concrete', 'id': 53666, 'Has Association': False}\n",
      "{'Type Name': 'Wall_200Concrete', 'id': 53704, 'Has Association': False}\n",
      "{'Type Name': 'Wall_200Concrete', 'id': 53753, 'Has Association': False}\n",
      "{'Type Name': 'Wall_200Concrete', 'id': 53791, 'Has Association': False}\n",
      "{'Type Name': 'Wall_200Concrete', 'id': 53829, 'Has Association': False}\n",
      "{'Type Name': 'Wall_200Concrete', 'id': 53867, 'Has Association': False}\n",
      "{'Type Name': 'Wall_200Concrete', 'id': 53905, 'Has Association': False}\n",
      "{'Type Name': 'Wall_200Concrete', 'id': 55405, 'Has Association': False}\n",
      "{'Type Name': 'Wall_200Concrete', 'id': 63590, 'Has Association': False}\n",
      "{'Type Name': 'Wall_200Concrete', 'id': 63648, 'Has Association': False}\n",
      "{'Type Name': 'Wall_200Concrete', 'id': 63684, 'Has Association': False}\n",
      "{'Type Name': 'Wall_200Concrete', 'id': 63720, 'Has Association': False}\n",
      "{'Type Name': 'Wall_200Concrete', 'id': 63756, 'Has Association': False}\n",
      "{'Type Name': 'Wall_200Concrete', 'id': 63792, 'Has Association': False}\n",
      "{'Type Name': 'Wall_200Concrete', 'id': 63828, 'Has Association': False}\n",
      "{'Type Name': 'Wall_200Concrete', 'id': 63864, 'Has Association': False}\n",
      "{'Type Name': 'Wall_200Concrete', 'id': 63900, 'Has Association': False}\n",
      "{'Type Name': 'Wall_200Concrete', 'id': 63936, 'Has Association': False}\n",
      "{'Type Name': 'Wall_200Concrete', 'id': 63972, 'Has Association': False}\n",
      "{'Type Name': 'Wall_200Concrete', 'id': 64008, 'Has Association': False}\n",
      "{'Type Name': 'Wall_200Concrete', 'id': 64044, 'Has Association': False}\n",
      "{'Type Name': 'Wall_200Concrete', 'id': 64080, 'Has Association': False}\n",
      "{'Type Name': 'Wall_200Concrete', 'id': 64116, 'Has Association': False}\n",
      "{'Type Name': 'Wall_200Concrete', 'id': 64152, 'Has Association': False}\n",
      "{'Type Name': 'Wall_200Concrete', 'id': 64188, 'Has Association': False}\n",
      "{'Type Name': 'Wall_200Concrete', 'id': 64224, 'Has Association': False}\n",
      "{'Type Name': 'Wall_200Concrete', 'id': 64260, 'Has Association': False}\n",
      "63\n"
     ]
    }
   ],
   "source": [
    "import ifcopenshell.util.element\n",
    "i = 0\n",
    "for entity in model.by_type(\"IfcWall\"):\n",
    "    identity = ifcopenshell.util.element.get_pset(entity, \"Identity Data\")\n",
    "    i += 1\n",
    "    print(identity)\n",
    "print(i)\n"
   ]
  },
  {
   "cell_type": "code",
   "execution_count": 16,
   "id": "d66c87e0",
   "metadata": {},
   "outputs": [
    {
     "name": "stdout",
     "output_type": "stream",
     "text": [
      "Classification references: set()\n"
     ]
    }
   ],
   "source": [
    "element = beams[3]\n",
    "\n",
    "references = ifcopenshell.util.classification.get_references(element)\n",
    "\n",
    "print(\"Classification references:\", references)\n",
    "for reference in references:\n",
    "    system = ifcopenshell.util.classification.get_classification(reference)\n",
    "    print(\"This reference is part of the system\", system.Name)\n",
    "    print(\"The element has a classification reference of\", reference.Identification)"
   ]
  },
  {
   "cell_type": "code",
   "execution_count": 17,
   "id": "ca6c84bc",
   "metadata": {},
   "outputs": [
    {
     "name": "stdout",
     "output_type": "stream",
     "text": [
      "B_00\n",
      "F_00\n",
      "F_01\n",
      "F_02\n",
      "Roof\n"
     ]
    }
   ],
   "source": [
    "storeys = dict()\n",
    "for storey in model.by_type('IfcBuildingStorey'):\n",
    "    storeys[storey.GlobalId] = storey\n",
    "    print(storey.Name)"
   ]
  },
  {
   "cell_type": "code",
   "execution_count": 18,
   "id": "97b7d116",
   "metadata": {},
   "outputs": [
    {
     "data": {
      "text/html": [
       "<div>\n",
       "<style scoped>\n",
       "    .dataframe tbody tr th:only-of-type {\n",
       "        vertical-align: middle;\n",
       "    }\n",
       "\n",
       "    .dataframe tbody tr th {\n",
       "        vertical-align: top;\n",
       "    }\n",
       "\n",
       "    .dataframe thead th {\n",
       "        text-align: right;\n",
       "    }\n",
       "</style>\n",
       "<table border=\"1\" class=\"dataframe\">\n",
       "  <thead>\n",
       "    <tr style=\"text-align: right;\">\n",
       "      <th></th>\n",
       "      <th>id</th>\n",
       "      <th>type</th>\n",
       "      <th>Name</th>\n",
       "      <th>Description</th>\n",
       "      <th>Category</th>\n",
       "    </tr>\n",
       "  </thead>\n",
       "  <tbody>\n",
       "    <tr>\n",
       "      <th>0</th>\n",
       "      <td>95</td>\n",
       "      <td>IfcMaterial</td>\n",
       "      <td>Concrete, Cast In Situ</td>\n",
       "      <td>None</td>\n",
       "      <td>Concrete</td>\n",
       "    </tr>\n",
       "    <tr>\n",
       "      <th>1</th>\n",
       "      <td>1060</td>\n",
       "      <td>IfcMaterial</td>\n",
       "      <td>BIPS_CONCRETE_INSITU</td>\n",
       "      <td>None</td>\n",
       "      <td>Concrete</td>\n",
       "    </tr>\n",
       "    <tr>\n",
       "      <th>2</th>\n",
       "      <td>6013</td>\n",
       "      <td>IfcMaterial</td>\n",
       "      <td>BIPS_CONCRETE_PRECAST</td>\n",
       "      <td>None</td>\n",
       "      <td>Concrete</td>\n",
       "    </tr>\n",
       "    <tr>\n",
       "      <th>3</th>\n",
       "      <td>17767</td>\n",
       "      <td>IfcMaterial</td>\n",
       "      <td>BIPS_STEEL</td>\n",
       "      <td>None</td>\n",
       "      <td>Metal</td>\n",
       "    </tr>\n",
       "    <tr>\n",
       "      <th>4</th>\n",
       "      <td>25278</td>\n",
       "      <td>IfcMaterial</td>\n",
       "      <td>BIPS_CONCRETE_INSITU(1)</td>\n",
       "      <td>None</td>\n",
       "      <td>Concrete</td>\n",
       "    </tr>\n",
       "    <tr>\n",
       "      <th>5</th>\n",
       "      <td>46934</td>\n",
       "      <td>IfcMaterial</td>\n",
       "      <td>Concrete, Cast-in-Place - C15</td>\n",
       "      <td>None</td>\n",
       "      <td>Concrete</td>\n",
       "    </tr>\n",
       "  </tbody>\n",
       "</table>\n",
       "</div>"
      ],
      "text/plain": [
       "      id         type                           Name Description  Category\n",
       "0     95  IfcMaterial         Concrete, Cast In Situ        None  Concrete\n",
       "1   1060  IfcMaterial           BIPS_CONCRETE_INSITU        None  Concrete\n",
       "2   6013  IfcMaterial          BIPS_CONCRETE_PRECAST        None  Concrete\n",
       "3  17767  IfcMaterial                     BIPS_STEEL        None     Metal\n",
       "4  25278  IfcMaterial        BIPS_CONCRETE_INSITU(1)        None  Concrete\n",
       "5  46934  IfcMaterial  Concrete, Cast-in-Place - C15        None  Concrete"
      ]
     },
     "metadata": {},
     "output_type": "display_data"
    }
   ],
   "source": [
    "display(pd.DataFrame([material.get_info() for material in model.by_type('IfcMaterial')]).head(-1))\n"
   ]
  },
  {
   "cell_type": "code",
   "execution_count": null,
   "id": "419b22e1",
   "metadata": {},
   "outputs": [],
   "source": []
  }
 ],
 "metadata": {
  "kernelspec": {
   "display_name": "base",
   "language": "python",
   "name": "python3"
  },
  "language_info": {
   "codemirror_mode": {
    "name": "ipython",
    "version": 3
   },
   "file_extension": ".py",
   "mimetype": "text/x-python",
   "name": "python",
   "nbconvert_exporter": "python",
   "pygments_lexer": "ipython3",
   "version": "3.13.5"
  }
 },
 "nbformat": 4,
 "nbformat_minor": 5
}
