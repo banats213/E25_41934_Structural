{
 "cells": [
  {
   "cell_type": "code",
   "execution_count": null,
   "id": "7daf0a59",
   "metadata": {},
   "outputs": [],
   "source": [
    "import ifcopenshell\n",
    "\n",
    "from external.BIManalyst_g_29.rules import BeamClassifications\n",
    "\n",
    "model = ifcopenshell.open(\"path/to/ifcfile.ifc\")\n",
    "\n",
    "windowResult = BeamClassifications.checkRule(model)\n",
    "\n",
    "doorResult = doorRule.checkRule(model)\n",
    "\n",
    "print(\"Window result:\", windowResult)\n",
    "print(\"Door result:\", doorResult)"
   ]
  }
 ],
 "metadata": {
  "language_info": {
   "name": "python"
  }
 },
 "nbformat": 4,
 "nbformat_minor": 5
}
